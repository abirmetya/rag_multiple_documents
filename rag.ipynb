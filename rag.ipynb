{
 "cells": [
  {
   "cell_type": "code",
   "execution_count": 100,
   "metadata": {},
   "outputs": [],
   "source": [
    "import os\n",
    "import numpy as np\n"
   ]
  },
  {
   "cell_type": "code",
   "execution_count": 2,
   "metadata": {},
   "outputs": [],
   "source": [
    "from langchain.vectorstores import FAISS\n",
    "from langchain.text_splitter import RecursiveCharacterTextSplitter\n",
    "from langchain.document_loaders import PyPDFDirectoryLoader"
   ]
  },
  {
   "cell_type": "code",
   "execution_count": 5,
   "metadata": {},
   "outputs": [],
   "source": [
    "from langchain.prompts import PromptTemplate\n",
    "from langchain.chains import RetrievalQA"
   ]
  },
  {
   "cell_type": "code",
   "execution_count": 35,
   "metadata": {},
   "outputs": [],
   "source": [
    "from langchain_community.embeddings import OpenAIEmbeddings\n",
    "from langchain_community.chat_models import ChatOpenAI"
   ]
  },
  {
   "cell_type": "code",
   "execution_count": 7,
   "metadata": {},
   "outputs": [],
   "source": [
    "folder_path = 'D:/abir/ai_ml_projects/rag_multiple_documents/docs/'"
   ]
  },
  {
   "cell_type": "code",
   "execution_count": 18,
   "metadata": {},
   "outputs": [],
   "source": [
    "def data_ingestion(folder_path):\n",
    "    loader = PyPDFDirectoryLoader(folder_path)\n",
    "    docs = loader.load()\n",
    "    text_splitter = RecursiveCharacterTextSplitter(chunk_size=1000,chunk_overlap=100)\n",
    "    splitted_document = text_splitter.split_documents(docs)\n",
    "    return splitted_document"
   ]
  },
  {
   "cell_type": "code",
   "execution_count": 29,
   "metadata": {},
   "outputs": [],
   "source": [
    "def open_ai_embedding(deployment=\"text-embedding-3-small\"):    \n",
    "    # Use old version of Ada. You probably want V2 rather than this.\n",
    "    embeddings = OpenAIEmbeddings(deployment=deployment)\n",
    "    return embeddings\n",
    "\n",
    "embeddings = open_ai_embedding()"
   ]
  },
  {
   "cell_type": "code",
   "execution_count": 25,
   "metadata": {},
   "outputs": [
    {
     "data": {
      "text/plain": [
       "1536"
      ]
     },
     "execution_count": 25,
     "metadata": {},
     "output_type": "execute_result"
    }
   ],
   "source": [
    "if __name__ == '__main__':\n",
    "    embeddings = open_ai_embedding()\n",
    "    embeddings.embed_query('Hello world')"
   ]
  },
  {
   "cell_type": "code",
   "execution_count": 30,
   "metadata": {},
   "outputs": [],
   "source": [
    "def get_vector_store(docs):\n",
    "    faiss_embedding = FAISS.from_documents(\n",
    "        docs,\n",
    "        embeddings\n",
    "    )\n",
    "    faiss_embedding.save_local(\"faiss_index\")\n",
    "    return"
   ]
  },
  {
   "cell_type": "code",
   "execution_count": 34,
   "metadata": {},
   "outputs": [],
   "source": [
    "docs = data_ingestion(folder_path)\n",
    "get_vector_store(docs)"
   ]
  },
  {
   "cell_type": "code",
   "execution_count": 36,
   "metadata": {},
   "outputs": [],
   "source": [
    "def llm_model():\n",
    "    return ChatOpenAI()"
   ]
  },
  {
   "cell_type": "code",
   "execution_count": 37,
   "metadata": {},
   "outputs": [],
   "source": [
    "prompt_template = \"\"\"\n",
    "Human : Use the following pieces of context to provide a concise answer,\n",
    "to the question at the end. However, please use atlease 250 words with detailed \n",
    "explanation. If you don't know the answer, just say that you don't know and don't\n",
    "try  to make up an answer.\n",
    "<context>\n",
    "{context}\n",
    "</context>\n",
    "\n",
    "Question: {question}\n",
    "\n",
    "Assistant:\n",
    "\"\"\"\n",
    "\n",
    "prompt = PromptTemplate(\n",
    "    template=prompt_template,\n",
    "    input_variables=[\"context\",\"question\"]\n",
    ")"
   ]
  },
  {
   "cell_type": "code",
   "execution_count": 74,
   "metadata": {},
   "outputs": [],
   "source": [
    "def get_response(llm,vectorstore_faiss,query):\n",
    "    qa = RetrievalQA.from_chain_type(\n",
    "        llm=llm,\n",
    "        chain_type='stuff',\n",
    "        retriever=vectorstore_faiss.as_retriever(\n",
    "            search_type='similarity',search_kwargs={\"k\":6}\n",
    "        ),\n",
    "        return_source_documents=True,\n",
    "        chain_type_kwargs={'prompt':prompt}\n",
    "    )\n",
    "    answer = qa({'query':query})\n",
    "    vectorstore_faiss.similarity\n",
    "\n",
    "    return answer"
   ]
  },
  {
   "cell_type": "code",
   "execution_count": 69,
   "metadata": {},
   "outputs": [],
   "source": [
    "faiss_index = FAISS.load_local(\"faiss_index\",embeddings,allow_dangerous_deserialization=True)\n",
    "# llm = llm_model_openai()\n",
    "llm = llm_model()\n",
    "user_question = \"What is climate change?\"\n",
    "\n",
    "llm_response = get_response(llm,faiss_index,user_question)"
   ]
  },
  {
   "cell_type": "code",
   "execution_count": 97,
   "metadata": {},
   "outputs": [],
   "source": [
    "def return_similarity_score(faiss_index,query,k=6):\n",
    "    similarity_score = faiss_index.similarity_search_with_score(query,k=k)\n",
    "    score = []\n",
    "    for score_ in similarity_score:\n",
    "        score.append(score_[1])\n",
    "    \n",
    "    return score"
   ]
  },
  {
   "cell_type": "code",
   "execution_count": 101,
   "metadata": {},
   "outputs": [],
   "source": [
    "def process_llm_response(llm_response,faiss_index,user_question,k=6):\n",
    "    print(llm_response['result'])\n",
    "    print('\\n\\nSources:')\n",
    "    score = return_similarity_score(faiss_index,user_question,k)\n",
    "    i = 0\n",
    "    for source in llm_response['source_documents']:\n",
    "        print(source.metadata['source'].split('\\\\')[-1],' ','page number is', source.metadata['page'],' and score is ',np.round(score[i],2))\n",
    "        i+=1"
   ]
  },
  {
   "cell_type": "code",
   "execution_count": 124,
   "metadata": {},
   "outputs": [
    {
     "ename": "SyntaxError",
     "evalue": "f-string expression part cannot include a backslash (256530741.py, line 2)",
     "output_type": "error",
     "traceback": [
      "\u001b[1;36m  Cell \u001b[1;32mIn[124], line 2\u001b[1;36m\u001b[0m\n\u001b[1;33m    f\"{source.metadata['source'].split('\\\\')[-1]}  page number is  {source.metadata['page']} and score is {np.round(score[i],2)}\"\u001b[0m\n\u001b[1;37m                                                                                                                                 ^\u001b[0m\n\u001b[1;31mSyntaxError\u001b[0m\u001b[1;31m:\u001b[0m f-string expression part cannot include a backslash\n"
     ]
    }
   ],
   "source": [
    "source = llm_response['source_documents'][0]\n",
    "f\"{source.metadata['source'].split('\\\\')[-1]}  page number is  {source.metadata['page']} and score is {np.round(score[i],2)}\""
   ]
  },
  {
   "cell_type": "code",
   "execution_count": 127,
   "metadata": {},
   "outputs": [],
   "source": [
    "source = llm_response['source_documents'][0]\n"
   ]
  },
  {
   "cell_type": "code",
   "execution_count": 128,
   "metadata": {},
   "outputs": [
    {
     "data": {
      "text/plain": [
       "Document(metadata={'source': 'D:\\\\abir\\\\ai_ml_projects\\\\rag_multiple_documents\\\\docs\\\\document_4.pdf', 'page': 2}, page_content='The climate problem\\nClimate change is a serious and urgent issue. Th  e Earth’s climate is changing, and the scientiﬁ  c consensus is \\nnot only that human activities have contributed to it signiﬁ  cantly, but that the change is far more rapid and \\ndangerous than thought earlier (IPCC 2007)\\n1. In this section, we will only highlight some of these points \\n(for more detail, we refer to IPCC 2007 and Stern 2006).\\nTh e global mean temperature of the earth is rising; it has risen by 0.7oC in the 20th century, and con-\\ntinues on an upward trend. Th  is has already begun to impose costs (e.g., in the form of heat waves, frequency \\nof extreme events, and recession of glaciers), but these are still within the bounds of common experience. \\n1 Th  e precise statement is that IPCC now has “very high conﬁ  dence that the globally averaged net eﬀ  ect of human \\nactivities since 1750 has been one of warming”.')"
      ]
     },
     "execution_count": 128,
     "metadata": {},
     "output_type": "execute_result"
    }
   ],
   "source": [
    "source"
   ]
  },
  {
   "cell_type": "code",
   "execution_count": 135,
   "metadata": {},
   "outputs": [
    {
     "data": {
      "text/plain": [
       "'document_4.pdf'"
      ]
     },
     "execution_count": 135,
     "metadata": {},
     "output_type": "execute_result"
    }
   ],
   "source": [
    "doc = source.metadata['source'].split(\"\\\\\")[-1]\n",
    "f'''{doc}'''"
   ]
  },
  {
   "cell_type": "code",
   "execution_count": 102,
   "metadata": {},
   "outputs": [
    {
     "name": "stdout",
     "output_type": "stream",
     "text": [
      "Climate change refers to the long-term alteration in Earth's climate patterns, particularly in terms of temperature, precipitation, and weather events. It is a significant and urgent issue that is primarily driven by human activities, such as the emission of greenhouse gases from burning fossil fuels and deforestation. The Earth's climate is changing at a rapid pace, leading to a rise in global mean temperature, increased frequency of extreme weather events, and potential sea-level rise.\n",
      "\n",
      "The Intergovernmental Panel on Climate Change (IPCC) has highlighted the substantial impact of human activities on global warming since 1750. This warming effect has already begun to impose costs on society and ecosystems, with potential catastrophic consequences if not addressed promptly. Climate change poses severe risks to biodiversity, water resources, agriculture, and human health, among other aspects of life on Earth.\n",
      "\n",
      "While climate change affects all countries, its impacts can vary significantly depending on local environmental conditions and vulnerability. Developing countries are particularly at risk due to their geographical location, weak coping capacities, and vulnerable infrastructures. Addressing climate change requires global cooperation and immediate action to reduce greenhouse gas emissions and mitigate its effects.\n",
      "\n",
      "In conclusion, climate change is a complex and multifaceted issue that poses a serious threat to the planet's ecosystems and human societies. It is essential to implement effective mitigation and adaptation strategies to combat climate change and safeguard the future of our planet.\n",
      "\n",
      "\n",
      "Sources:\n",
      "document_4.pdf   page number is 2  and score is  0.27\n",
      "document_1.pdf   page number is 10  and score is  0.29\n",
      "document_4.pdf   page number is 3  and score is  0.31\n",
      "document_1.pdf   page number is 1  and score is  0.31\n",
      "document_4.pdf   page number is 2  and score is  0.31\n",
      "document_1.pdf   page number is 1  and score is  0.31\n"
     ]
    }
   ],
   "source": [
    "process_llm_response(llm_response,faiss_index,user_question)"
   ]
  },
  {
   "cell_type": "code",
   "execution_count": 121,
   "metadata": {},
   "outputs": [
    {
     "name": "stderr",
     "output_type": "stream",
     "text": [
      "2024-12-06 01:20:07.882 WARNING streamlit.runtime.scriptrunner_utils.script_run_context: Thread 'MainThread': missing ScriptRunContext! This warning can be ignored when running in bare mode.\n",
      "2024-12-06 01:20:07.882 WARNING streamlit.runtime.scriptrunner_utils.script_run_context: Thread 'MainThread': missing ScriptRunContext! This warning can be ignored when running in bare mode.\n",
      "2024-12-06 01:20:08.736 \n",
      "  \u001b[33m\u001b[1mWarning:\u001b[0m to view this Streamlit app on a browser, run it with the following\n",
      "  command:\n",
      "\n",
      "    streamlit run C:\\Users\\Abir\\AppData\\Roaming\\Python\\Python310\\site-packages\\ipykernel_launcher.py [ARGUMENTS]\n",
      "2024-12-06 01:20:08.737 Thread 'MainThread': missing ScriptRunContext! This warning can be ignored when running in bare mode.\n",
      "2024-12-06 01:20:08.737 Thread 'MainThread': missing ScriptRunContext! This warning can be ignored when running in bare mode.\n",
      "2024-12-06 01:20:08.738 Thread 'MainThread': missing ScriptRunContext! This warning can be ignored when running in bare mode.\n",
      "2024-12-06 01:20:08.739 Thread 'MainThread': missing ScriptRunContext! This warning can be ignored when running in bare mode.\n",
      "2024-12-06 01:20:08.758 Thread 'MainThread': missing ScriptRunContext! This warning can be ignored when running in bare mode.\n",
      "2024-12-06 01:20:08.759 Session state does not function when running a script without `streamlit run`\n",
      "2024-12-06 01:20:08.760 Thread 'MainThread': missing ScriptRunContext! This warning can be ignored when running in bare mode.\n",
      "2024-12-06 01:20:08.761 Thread 'MainThread': missing ScriptRunContext! This warning can be ignored when running in bare mode.\n",
      "2024-12-06 01:20:08.763 Thread 'MainThread': missing ScriptRunContext! This warning can be ignored when running in bare mode.\n",
      "2024-12-06 01:20:08.763 Thread 'MainThread': missing ScriptRunContext! This warning can be ignored when running in bare mode.\n",
      "2024-12-06 01:20:08.764 Thread 'MainThread': missing ScriptRunContext! This warning can be ignored when running in bare mode.\n",
      "2024-12-06 01:20:08.765 Thread 'MainThread': missing ScriptRunContext! This warning can be ignored when running in bare mode.\n",
      "2024-12-06 01:20:08.766 Thread 'MainThread': missing ScriptRunContext! This warning can be ignored when running in bare mode.\n",
      "2024-12-06 01:20:08.766 Thread 'MainThread': missing ScriptRunContext! This warning can be ignored when running in bare mode.\n",
      "2024-12-06 01:20:08.767 Thread 'MainThread': missing ScriptRunContext! This warning can be ignored when running in bare mode.\n",
      "2024-12-06 01:20:08.767 Thread 'MainThread': missing ScriptRunContext! This warning can be ignored when running in bare mode.\n",
      "2024-12-06 01:20:08.768 Thread 'MainThread': missing ScriptRunContext! This warning can be ignored when running in bare mode.\n",
      "2024-12-06 01:20:08.769 Thread 'MainThread': missing ScriptRunContext! This warning can be ignored when running in bare mode.\n",
      "2024-12-06 01:20:08.769 Thread 'MainThread': missing ScriptRunContext! This warning can be ignored when running in bare mode.\n",
      "2024-12-06 01:20:08.770 Thread 'MainThread': missing ScriptRunContext! This warning can be ignored when running in bare mode.\n"
     ]
    }
   ],
   "source": [
    "import streamlit as st\n",
    "\n",
    "def main():\n",
    "    st.set_page_config(\"Chat PDF\")\n",
    "    st.header(\"Chat with multiple PDFs using OpenAI\")\n",
    "\n",
    "    user_question = st.text_input(\"Ask a Question from the PDF Files, Like- What is climate change?\")\n",
    "\n",
    "    with st.sidebar:\n",
    "        st.title(\"Menu:\")\n",
    "\n",
    "        if st.button(\"Vectors Update\"):\n",
    "            with st.spinner(\"Processing...\"):\n",
    "                docs = data_ingestion(\"D:/abir/ai_ml_projects/rag_multiple_documents/docs/\")\n",
    "                get_vector_store(docs)\n",
    "                st.success('done')\n",
    "        \n",
    "    if st.button(\"LLM output\"):\n",
    "        with st.spinner(\"Processing...\"):\n",
    "            faiss_index = FAISS.load_local(\"faiss_index\",embeddings,allow_dangerous_deserialization=True)\n",
    "            llm = llm_model()\n",
    "            st.write(get_response(llm,faiss_index,user_question))\n",
    "            st.success(\"Done\")\n",
    "\n",
    "\n",
    "if __name__ == \"__main__\":\n",
    "    main()"
   ]
  }
 ],
 "metadata": {
  "language_info": {
   "name": "python"
  }
 },
 "nbformat": 4,
 "nbformat_minor": 2
}
